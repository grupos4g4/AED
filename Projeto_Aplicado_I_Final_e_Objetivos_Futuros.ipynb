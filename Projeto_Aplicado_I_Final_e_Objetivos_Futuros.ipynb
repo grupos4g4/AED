{
  "nbformat": 4,
  "nbformat_minor": 0,
  "metadata": {
    "colab": {
      "provenance": [],
      "include_colab_link": true
    },
    "kernelspec": {
      "name": "python3",
      "display_name": "Python 3"
    },
    "language_info": {
      "name": "python"
    }
  },
  "cells": [
    {
      "cell_type": "markdown",
      "metadata": {
        "id": "view-in-github",
        "colab_type": "text"
      },
      "source": [
        "<a href=\"https://colab.research.google.com/github/grupos4g4/AED/blob/main/Projeto_Aplicado_I_Final_e_Objetivos_Futuros.ipynb\" target=\"_parent\"><img src=\"https://colab.research.google.com/assets/colab-badge.svg\" alt=\"Open In Colab\"/></a>"
      ]
    },
    {
      "cell_type": "markdown",
      "source": [
        "# Análise dos Dados para o Projeto de Identificação de Obesidade por Predisposições de Estilo de Vida e Fatores Hereditários"
      ],
      "metadata": {
        "id": "tZVAIGJcbvq8"
      }
    },
    {
      "cell_type": "markdown",
      "source": [
        "Importação das Bibliotecas a serem utilizadas"
      ],
      "metadata": {
        "id": "lnZTKxALbaHr"
      }
    },
    {
      "cell_type": "code",
      "execution_count": null,
      "metadata": {
        "id": "ok8IrldhvAnU"
      },
      "outputs": [],
      "source": [
        "# Importação das Bibliotecas a serem Utilizadas\n",
        "import pandas as pd\n",
        "import numpy as np\n",
        "import seaborn as sns\n",
        "import matplotlib.pyplot as plt\n",
        "from sklearn.preprocessing import StandardScaler\n",
        "from sklearn.linear_model import LogisticRegression\n",
        "from sklearn.model_selection import train_test_split\n",
        "from sklearn.preprocessing import LabelEncoder\n",
        "from sklearn.metrics import accuracy_score\n",
        "from google.colab import files"
      ]
    },
    {
      "cell_type": "markdown",
      "source": [
        "Importação do Dataset"
      ],
      "metadata": {
        "id": "vddqnltcb3jS"
      }
    },
    {
      "cell_type": "code",
      "source": [
        "#Vamos fazer a importação do no Dataset\n",
        "df = pd.read_csv('/content/sample_data/ObesityDataSet.csv')"
      ],
      "metadata": {
        "id": "_DCQnbn9wxFB"
      },
      "execution_count": null,
      "outputs": []
    },
    {
      "cell_type": "markdown",
      "source": [
        "Apresentação bruta dos nossos dados"
      ],
      "metadata": {
        "id": "ZKn9JH3pb_rs"
      }
    },
    {
      "cell_type": "code",
      "source": [
        "df.head()"
      ],
      "metadata": {
        "id": "hI9CZCJTxcX8",
        "colab": {
          "base_uri": "https://localhost:8080/",
          "height": 206
        },
        "outputId": "5d2f5a17-94e8-48e3-f433-3f2f96939d56"
      },
      "execution_count": null,
      "outputs": [
        {
          "output_type": "execute_result",
          "data": {
            "text/plain": [
              "   Gender   Age  Height  Weight family_history_with_overweight FAVC  FCVC  \\\n",
              "0  Female  21.0    1.62    64.0                            yes   no   2.0   \n",
              "1  Female  21.0    1.52    56.0                            yes   no   3.0   \n",
              "2    Male  23.0    1.80    77.0                            yes   no   2.0   \n",
              "3    Male  27.0    1.80    87.0                             no   no   3.0   \n",
              "4    Male  22.0    1.78    89.8                             no   no   2.0   \n",
              "\n",
              "   NCP       CAEC SMOKE  CH2O  SCC  FAF  TUE        CALC  \\\n",
              "0  3.0  Sometimes    no   2.0   no  0.0  1.0          no   \n",
              "1  3.0  Sometimes   yes   3.0  yes  3.0  0.0   Sometimes   \n",
              "2  3.0  Sometimes    no   2.0   no  2.0  1.0  Frequently   \n",
              "3  3.0  Sometimes    no   2.0   no  2.0  0.0  Frequently   \n",
              "4  1.0  Sometimes    no   2.0   no  0.0  0.0   Sometimes   \n",
              "\n",
              "                  MTRANS           NObeyesdad  \n",
              "0  Public_Transportation        Normal_Weight  \n",
              "1  Public_Transportation        Normal_Weight  \n",
              "2  Public_Transportation        Normal_Weight  \n",
              "3                Walking   Overweight_Level_I  \n",
              "4  Public_Transportation  Overweight_Level_II  "
            ],
            "text/html": [
              "\n",
              "  <div id=\"df-218a66e6-2bc0-4709-8af7-8bc3b41a0e9b\" class=\"colab-df-container\">\n",
              "    <div>\n",
              "<style scoped>\n",
              "    .dataframe tbody tr th:only-of-type {\n",
              "        vertical-align: middle;\n",
              "    }\n",
              "\n",
              "    .dataframe tbody tr th {\n",
              "        vertical-align: top;\n",
              "    }\n",
              "\n",
              "    .dataframe thead th {\n",
              "        text-align: right;\n",
              "    }\n",
              "</style>\n",
              "<table border=\"1\" class=\"dataframe\">\n",
              "  <thead>\n",
              "    <tr style=\"text-align: right;\">\n",
              "      <th></th>\n",
              "      <th>Gender</th>\n",
              "      <th>Age</th>\n",
              "      <th>Height</th>\n",
              "      <th>Weight</th>\n",
              "      <th>family_history_with_overweight</th>\n",
              "      <th>FAVC</th>\n",
              "      <th>FCVC</th>\n",
              "      <th>NCP</th>\n",
              "      <th>CAEC</th>\n",
              "      <th>SMOKE</th>\n",
              "      <th>CH2O</th>\n",
              "      <th>SCC</th>\n",
              "      <th>FAF</th>\n",
              "      <th>TUE</th>\n",
              "      <th>CALC</th>\n",
              "      <th>MTRANS</th>\n",
              "      <th>NObeyesdad</th>\n",
              "    </tr>\n",
              "  </thead>\n",
              "  <tbody>\n",
              "    <tr>\n",
              "      <th>0</th>\n",
              "      <td>Female</td>\n",
              "      <td>21.0</td>\n",
              "      <td>1.62</td>\n",
              "      <td>64.0</td>\n",
              "      <td>yes</td>\n",
              "      <td>no</td>\n",
              "      <td>2.0</td>\n",
              "      <td>3.0</td>\n",
              "      <td>Sometimes</td>\n",
              "      <td>no</td>\n",
              "      <td>2.0</td>\n",
              "      <td>no</td>\n",
              "      <td>0.0</td>\n",
              "      <td>1.0</td>\n",
              "      <td>no</td>\n",
              "      <td>Public_Transportation</td>\n",
              "      <td>Normal_Weight</td>\n",
              "    </tr>\n",
              "    <tr>\n",
              "      <th>1</th>\n",
              "      <td>Female</td>\n",
              "      <td>21.0</td>\n",
              "      <td>1.52</td>\n",
              "      <td>56.0</td>\n",
              "      <td>yes</td>\n",
              "      <td>no</td>\n",
              "      <td>3.0</td>\n",
              "      <td>3.0</td>\n",
              "      <td>Sometimes</td>\n",
              "      <td>yes</td>\n",
              "      <td>3.0</td>\n",
              "      <td>yes</td>\n",
              "      <td>3.0</td>\n",
              "      <td>0.0</td>\n",
              "      <td>Sometimes</td>\n",
              "      <td>Public_Transportation</td>\n",
              "      <td>Normal_Weight</td>\n",
              "    </tr>\n",
              "    <tr>\n",
              "      <th>2</th>\n",
              "      <td>Male</td>\n",
              "      <td>23.0</td>\n",
              "      <td>1.80</td>\n",
              "      <td>77.0</td>\n",
              "      <td>yes</td>\n",
              "      <td>no</td>\n",
              "      <td>2.0</td>\n",
              "      <td>3.0</td>\n",
              "      <td>Sometimes</td>\n",
              "      <td>no</td>\n",
              "      <td>2.0</td>\n",
              "      <td>no</td>\n",
              "      <td>2.0</td>\n",
              "      <td>1.0</td>\n",
              "      <td>Frequently</td>\n",
              "      <td>Public_Transportation</td>\n",
              "      <td>Normal_Weight</td>\n",
              "    </tr>\n",
              "    <tr>\n",
              "      <th>3</th>\n",
              "      <td>Male</td>\n",
              "      <td>27.0</td>\n",
              "      <td>1.80</td>\n",
              "      <td>87.0</td>\n",
              "      <td>no</td>\n",
              "      <td>no</td>\n",
              "      <td>3.0</td>\n",
              "      <td>3.0</td>\n",
              "      <td>Sometimes</td>\n",
              "      <td>no</td>\n",
              "      <td>2.0</td>\n",
              "      <td>no</td>\n",
              "      <td>2.0</td>\n",
              "      <td>0.0</td>\n",
              "      <td>Frequently</td>\n",
              "      <td>Walking</td>\n",
              "      <td>Overweight_Level_I</td>\n",
              "    </tr>\n",
              "    <tr>\n",
              "      <th>4</th>\n",
              "      <td>Male</td>\n",
              "      <td>22.0</td>\n",
              "      <td>1.78</td>\n",
              "      <td>89.8</td>\n",
              "      <td>no</td>\n",
              "      <td>no</td>\n",
              "      <td>2.0</td>\n",
              "      <td>1.0</td>\n",
              "      <td>Sometimes</td>\n",
              "      <td>no</td>\n",
              "      <td>2.0</td>\n",
              "      <td>no</td>\n",
              "      <td>0.0</td>\n",
              "      <td>0.0</td>\n",
              "      <td>Sometimes</td>\n",
              "      <td>Public_Transportation</td>\n",
              "      <td>Overweight_Level_II</td>\n",
              "    </tr>\n",
              "  </tbody>\n",
              "</table>\n",
              "</div>\n",
              "    <div class=\"colab-df-buttons\">\n",
              "\n",
              "  <div class=\"colab-df-container\">\n",
              "    <button class=\"colab-df-convert\" onclick=\"convertToInteractive('df-218a66e6-2bc0-4709-8af7-8bc3b41a0e9b')\"\n",
              "            title=\"Convert this dataframe to an interactive table.\"\n",
              "            style=\"display:none;\">\n",
              "\n",
              "  <svg xmlns=\"http://www.w3.org/2000/svg\" height=\"24px\" viewBox=\"0 -960 960 960\">\n",
              "    <path d=\"M120-120v-720h720v720H120Zm60-500h600v-160H180v160Zm220 220h160v-160H400v160Zm0 220h160v-160H400v160ZM180-400h160v-160H180v160Zm440 0h160v-160H620v160ZM180-180h160v-160H180v160Zm440 0h160v-160H620v160Z\"/>\n",
              "  </svg>\n",
              "    </button>\n",
              "\n",
              "  <style>\n",
              "    .colab-df-container {\n",
              "      display:flex;\n",
              "      gap: 12px;\n",
              "    }\n",
              "\n",
              "    .colab-df-convert {\n",
              "      background-color: #E8F0FE;\n",
              "      border: none;\n",
              "      border-radius: 50%;\n",
              "      cursor: pointer;\n",
              "      display: none;\n",
              "      fill: #1967D2;\n",
              "      height: 32px;\n",
              "      padding: 0 0 0 0;\n",
              "      width: 32px;\n",
              "    }\n",
              "\n",
              "    .colab-df-convert:hover {\n",
              "      background-color: #E2EBFA;\n",
              "      box-shadow: 0px 1px 2px rgba(60, 64, 67, 0.3), 0px 1px 3px 1px rgba(60, 64, 67, 0.15);\n",
              "      fill: #174EA6;\n",
              "    }\n",
              "\n",
              "    .colab-df-buttons div {\n",
              "      margin-bottom: 4px;\n",
              "    }\n",
              "\n",
              "    [theme=dark] .colab-df-convert {\n",
              "      background-color: #3B4455;\n",
              "      fill: #D2E3FC;\n",
              "    }\n",
              "\n",
              "    [theme=dark] .colab-df-convert:hover {\n",
              "      background-color: #434B5C;\n",
              "      box-shadow: 0px 1px 3px 1px rgba(0, 0, 0, 0.15);\n",
              "      filter: drop-shadow(0px 1px 2px rgba(0, 0, 0, 0.3));\n",
              "      fill: #FFFFFF;\n",
              "    }\n",
              "  </style>\n",
              "\n",
              "    <script>\n",
              "      const buttonEl =\n",
              "        document.querySelector('#df-218a66e6-2bc0-4709-8af7-8bc3b41a0e9b button.colab-df-convert');\n",
              "      buttonEl.style.display =\n",
              "        google.colab.kernel.accessAllowed ? 'block' : 'none';\n",
              "\n",
              "      async function convertToInteractive(key) {\n",
              "        const element = document.querySelector('#df-218a66e6-2bc0-4709-8af7-8bc3b41a0e9b');\n",
              "        const dataTable =\n",
              "          await google.colab.kernel.invokeFunction('convertToInteractive',\n",
              "                                                    [key], {});\n",
              "        if (!dataTable) return;\n",
              "\n",
              "        const docLinkHtml = 'Like what you see? Visit the ' +\n",
              "          '<a target=\"_blank\" href=https://colab.research.google.com/notebooks/data_table.ipynb>data table notebook</a>'\n",
              "          + ' to learn more about interactive tables.';\n",
              "        element.innerHTML = '';\n",
              "        dataTable['output_type'] = 'display_data';\n",
              "        await google.colab.output.renderOutput(dataTable, element);\n",
              "        const docLink = document.createElement('div');\n",
              "        docLink.innerHTML = docLinkHtml;\n",
              "        element.appendChild(docLink);\n",
              "      }\n",
              "    </script>\n",
              "  </div>\n",
              "\n",
              "\n",
              "<div id=\"df-7fe55df3-7d0c-4c17-9b90-309c9484b355\">\n",
              "  <button class=\"colab-df-quickchart\" onclick=\"quickchart('df-7fe55df3-7d0c-4c17-9b90-309c9484b355')\"\n",
              "            title=\"Suggest charts\"\n",
              "            style=\"display:none;\">\n",
              "\n",
              "<svg xmlns=\"http://www.w3.org/2000/svg\" height=\"24px\"viewBox=\"0 0 24 24\"\n",
              "     width=\"24px\">\n",
              "    <g>\n",
              "        <path d=\"M19 3H5c-1.1 0-2 .9-2 2v14c0 1.1.9 2 2 2h14c1.1 0 2-.9 2-2V5c0-1.1-.9-2-2-2zM9 17H7v-7h2v7zm4 0h-2V7h2v10zm4 0h-2v-4h2v4z\"/>\n",
              "    </g>\n",
              "</svg>\n",
              "  </button>\n",
              "\n",
              "<style>\n",
              "  .colab-df-quickchart {\n",
              "      --bg-color: #E8F0FE;\n",
              "      --fill-color: #1967D2;\n",
              "      --hover-bg-color: #E2EBFA;\n",
              "      --hover-fill-color: #174EA6;\n",
              "      --disabled-fill-color: #AAA;\n",
              "      --disabled-bg-color: #DDD;\n",
              "  }\n",
              "\n",
              "  [theme=dark] .colab-df-quickchart {\n",
              "      --bg-color: #3B4455;\n",
              "      --fill-color: #D2E3FC;\n",
              "      --hover-bg-color: #434B5C;\n",
              "      --hover-fill-color: #FFFFFF;\n",
              "      --disabled-bg-color: #3B4455;\n",
              "      --disabled-fill-color: #666;\n",
              "  }\n",
              "\n",
              "  .colab-df-quickchart {\n",
              "    background-color: var(--bg-color);\n",
              "    border: none;\n",
              "    border-radius: 50%;\n",
              "    cursor: pointer;\n",
              "    display: none;\n",
              "    fill: var(--fill-color);\n",
              "    height: 32px;\n",
              "    padding: 0;\n",
              "    width: 32px;\n",
              "  }\n",
              "\n",
              "  .colab-df-quickchart:hover {\n",
              "    background-color: var(--hover-bg-color);\n",
              "    box-shadow: 0 1px 2px rgba(60, 64, 67, 0.3), 0 1px 3px 1px rgba(60, 64, 67, 0.15);\n",
              "    fill: var(--button-hover-fill-color);\n",
              "  }\n",
              "\n",
              "  .colab-df-quickchart-complete:disabled,\n",
              "  .colab-df-quickchart-complete:disabled:hover {\n",
              "    background-color: var(--disabled-bg-color);\n",
              "    fill: var(--disabled-fill-color);\n",
              "    box-shadow: none;\n",
              "  }\n",
              "\n",
              "  .colab-df-spinner {\n",
              "    border: 2px solid var(--fill-color);\n",
              "    border-color: transparent;\n",
              "    border-bottom-color: var(--fill-color);\n",
              "    animation:\n",
              "      spin 1s steps(1) infinite;\n",
              "  }\n",
              "\n",
              "  @keyframes spin {\n",
              "    0% {\n",
              "      border-color: transparent;\n",
              "      border-bottom-color: var(--fill-color);\n",
              "      border-left-color: var(--fill-color);\n",
              "    }\n",
              "    20% {\n",
              "      border-color: transparent;\n",
              "      border-left-color: var(--fill-color);\n",
              "      border-top-color: var(--fill-color);\n",
              "    }\n",
              "    30% {\n",
              "      border-color: transparent;\n",
              "      border-left-color: var(--fill-color);\n",
              "      border-top-color: var(--fill-color);\n",
              "      border-right-color: var(--fill-color);\n",
              "    }\n",
              "    40% {\n",
              "      border-color: transparent;\n",
              "      border-right-color: var(--fill-color);\n",
              "      border-top-color: var(--fill-color);\n",
              "    }\n",
              "    60% {\n",
              "      border-color: transparent;\n",
              "      border-right-color: var(--fill-color);\n",
              "    }\n",
              "    80% {\n",
              "      border-color: transparent;\n",
              "      border-right-color: var(--fill-color);\n",
              "      border-bottom-color: var(--fill-color);\n",
              "    }\n",
              "    90% {\n",
              "      border-color: transparent;\n",
              "      border-bottom-color: var(--fill-color);\n",
              "    }\n",
              "  }\n",
              "</style>\n",
              "\n",
              "  <script>\n",
              "    async function quickchart(key) {\n",
              "      const quickchartButtonEl =\n",
              "        document.querySelector('#' + key + ' button');\n",
              "      quickchartButtonEl.disabled = true;  // To prevent multiple clicks.\n",
              "      quickchartButtonEl.classList.add('colab-df-spinner');\n",
              "      try {\n",
              "        const charts = await google.colab.kernel.invokeFunction(\n",
              "            'suggestCharts', [key], {});\n",
              "      } catch (error) {\n",
              "        console.error('Error during call to suggestCharts:', error);\n",
              "      }\n",
              "      quickchartButtonEl.classList.remove('colab-df-spinner');\n",
              "      quickchartButtonEl.classList.add('colab-df-quickchart-complete');\n",
              "    }\n",
              "    (() => {\n",
              "      let quickchartButtonEl =\n",
              "        document.querySelector('#df-7fe55df3-7d0c-4c17-9b90-309c9484b355 button');\n",
              "      quickchartButtonEl.style.display =\n",
              "        google.colab.kernel.accessAllowed ? 'block' : 'none';\n",
              "    })();\n",
              "  </script>\n",
              "</div>\n",
              "\n",
              "    </div>\n",
              "  </div>\n"
            ],
            "application/vnd.google.colaboratory.intrinsic+json": {
              "type": "dataframe",
              "variable_name": "df",
              "summary": "{\n  \"name\": \"df\",\n  \"rows\": 2111,\n  \"fields\": [\n    {\n      \"column\": \"Gender\",\n      \"properties\": {\n        \"dtype\": \"category\",\n        \"num_unique_values\": 2,\n        \"samples\": [\n          \"Male\",\n          \"Female\"\n        ],\n        \"semantic_type\": \"\",\n        \"description\": \"\"\n      }\n    },\n    {\n      \"column\": \"Age\",\n      \"properties\": {\n        \"dtype\": \"number\",\n        \"std\": 6.345968273732234,\n        \"min\": 14.0,\n        \"max\": 61.0,\n        \"num_unique_values\": 1402,\n        \"samples\": [\n          25.526746,\n          26.740655\n        ],\n        \"semantic_type\": \"\",\n        \"description\": \"\"\n      }\n    },\n    {\n      \"column\": \"Height\",\n      \"properties\": {\n        \"dtype\": \"number\",\n        \"std\": 0.09330481986792007,\n        \"min\": 1.45,\n        \"max\": 1.98,\n        \"num_unique_values\": 1574,\n        \"samples\": [\n          1.760175,\n          1.688436\n        ],\n        \"semantic_type\": \"\",\n        \"description\": \"\"\n      }\n    },\n    {\n      \"column\": \"Weight\",\n      \"properties\": {\n        \"dtype\": \"number\",\n        \"std\": 26.1911717452047,\n        \"min\": 39.0,\n        \"max\": 173.0,\n        \"num_unique_values\": 1525,\n        \"samples\": [\n          120.702935,\n          64.4\n        ],\n        \"semantic_type\": \"\",\n        \"description\": \"\"\n      }\n    },\n    {\n      \"column\": \"family_history_with_overweight\",\n      \"properties\": {\n        \"dtype\": \"category\",\n        \"num_unique_values\": 2,\n        \"samples\": [\n          \"no\",\n          \"yes\"\n        ],\n        \"semantic_type\": \"\",\n        \"description\": \"\"\n      }\n    },\n    {\n      \"column\": \"FAVC\",\n      \"properties\": {\n        \"dtype\": \"category\",\n        \"num_unique_values\": 2,\n        \"samples\": [\n          \"yes\",\n          \"no\"\n        ],\n        \"semantic_type\": \"\",\n        \"description\": \"\"\n      }\n    },\n    {\n      \"column\": \"FCVC\",\n      \"properties\": {\n        \"dtype\": \"number\",\n        \"std\": 0.5339265785033002,\n        \"min\": 1.0,\n        \"max\": 3.0,\n        \"num_unique_values\": 810,\n        \"samples\": [\n          2.987148,\n          2.939727\n        ],\n        \"semantic_type\": \"\",\n        \"description\": \"\"\n      }\n    },\n    {\n      \"column\": \"NCP\",\n      \"properties\": {\n        \"dtype\": \"number\",\n        \"std\": 0.7780386488418612,\n        \"min\": 1.0,\n        \"max\": 4.0,\n        \"num_unique_values\": 635,\n        \"samples\": [\n          1.468948,\n          2.9948\n        ],\n        \"semantic_type\": \"\",\n        \"description\": \"\"\n      }\n    },\n    {\n      \"column\": \"CAEC\",\n      \"properties\": {\n        \"dtype\": \"category\",\n        \"num_unique_values\": 4,\n        \"samples\": [\n          \"Frequently\",\n          \"no\"\n        ],\n        \"semantic_type\": \"\",\n        \"description\": \"\"\n      }\n    },\n    {\n      \"column\": \"SMOKE\",\n      \"properties\": {\n        \"dtype\": \"category\",\n        \"num_unique_values\": 2,\n        \"samples\": [\n          \"yes\",\n          \"no\"\n        ],\n        \"semantic_type\": \"\",\n        \"description\": \"\"\n      }\n    },\n    {\n      \"column\": \"CH2O\",\n      \"properties\": {\n        \"dtype\": \"number\",\n        \"std\": 0.6129534517968722,\n        \"min\": 1.0,\n        \"max\": 3.0,\n        \"num_unique_values\": 1268,\n        \"samples\": [\n          2.395387,\n          1.983973\n        ],\n        \"semantic_type\": \"\",\n        \"description\": \"\"\n      }\n    },\n    {\n      \"column\": \"SCC\",\n      \"properties\": {\n        \"dtype\": \"category\",\n        \"num_unique_values\": 2,\n        \"samples\": [\n          \"yes\",\n          \"no\"\n        ],\n        \"semantic_type\": \"\",\n        \"description\": \"\"\n      }\n    },\n    {\n      \"column\": \"FAF\",\n      \"properties\": {\n        \"dtype\": \"number\",\n        \"std\": 0.850592430836698,\n        \"min\": 0.0,\n        \"max\": 3.0,\n        \"num_unique_values\": 1190,\n        \"samples\": [\n          1.655488,\n          2.433918\n        ],\n        \"semantic_type\": \"\",\n        \"description\": \"\"\n      }\n    },\n    {\n      \"column\": \"TUE\",\n      \"properties\": {\n        \"dtype\": \"number\",\n        \"std\": 0.6089272596763782,\n        \"min\": 0.0,\n        \"max\": 2.0,\n        \"num_unique_values\": 1129,\n        \"samples\": [\n          1.416353,\n          0.878258\n        ],\n        \"semantic_type\": \"\",\n        \"description\": \"\"\n      }\n    },\n    {\n      \"column\": \"CALC\",\n      \"properties\": {\n        \"dtype\": \"category\",\n        \"num_unique_values\": 4,\n        \"samples\": [\n          \"Sometimes\",\n          \"Always\"\n        ],\n        \"semantic_type\": \"\",\n        \"description\": \"\"\n      }\n    },\n    {\n      \"column\": \"MTRANS\",\n      \"properties\": {\n        \"dtype\": \"category\",\n        \"num_unique_values\": 5,\n        \"samples\": [\n          \"Walking\",\n          \"Bike\"\n        ],\n        \"semantic_type\": \"\",\n        \"description\": \"\"\n      }\n    },\n    {\n      \"column\": \"NObeyesdad\",\n      \"properties\": {\n        \"dtype\": \"category\",\n        \"num_unique_values\": 7,\n        \"samples\": [\n          \"Normal_Weight\",\n          \"Overweight_Level_I\"\n        ],\n        \"semantic_type\": \"\",\n        \"description\": \"\"\n      }\n    }\n  ]\n}"
            }
          },
          "metadata": {},
          "execution_count": 5
        }
      ]
    },
    {
      "cell_type": "markdown",
      "source": [
        "Nesta célula, analisamos as colunas e indentificamos quais variáveis são categóricas e quais são númericas"
      ],
      "metadata": {
        "id": "kNJyEnaPbfGC"
      }
    },
    {
      "cell_type": "code",
      "source": [
        "df.info()"
      ],
      "metadata": {
        "id": "Y_XimUcfcg1h",
        "colab": {
          "base_uri": "https://localhost:8080/"
        },
        "outputId": "c78ffa13-6b57-42db-cb49-170379d6a557"
      },
      "execution_count": null,
      "outputs": [
        {
          "output_type": "stream",
          "name": "stdout",
          "text": [
            "<class 'pandas.core.frame.DataFrame'>\n",
            "RangeIndex: 2111 entries, 0 to 2110\n",
            "Data columns (total 17 columns):\n",
            " #   Column                          Non-Null Count  Dtype  \n",
            "---  ------                          --------------  -----  \n",
            " 0   Gender                          2111 non-null   object \n",
            " 1   Age                             2111 non-null   float64\n",
            " 2   Height                          2111 non-null   float64\n",
            " 3   Weight                          2111 non-null   float64\n",
            " 4   family_history_with_overweight  2111 non-null   object \n",
            " 5   FAVC                            2111 non-null   object \n",
            " 6   FCVC                            2111 non-null   float64\n",
            " 7   NCP                             2111 non-null   float64\n",
            " 8   CAEC                            2111 non-null   object \n",
            " 9   SMOKE                           2111 non-null   object \n",
            " 10  CH2O                            2111 non-null   float64\n",
            " 11  SCC                             2111 non-null   object \n",
            " 12  FAF                             2111 non-null   float64\n",
            " 13  TUE                             2111 non-null   float64\n",
            " 14  CALC                            2111 non-null   object \n",
            " 15  MTRANS                          2111 non-null   object \n",
            " 16  NObeyesdad                      2111 non-null   object \n",
            "dtypes: float64(8), object(9)\n",
            "memory usage: 280.5+ KB\n"
          ]
        }
      ]
    },
    {
      "cell_type": "markdown",
      "source": [
        "Classificação dos dados presentes em cada coluna do dataframe"
      ],
      "metadata": {
        "id": "SV6b_BM_csKp"
      }
    },
    {
      "cell_type": "code",
      "source": [
        "df.columns"
      ],
      "metadata": {
        "id": "SRn5NU1Icsvi",
        "colab": {
          "base_uri": "https://localhost:8080/"
        },
        "outputId": "e2fce6dd-78c4-4a85-9df0-5511ecb7aa18"
      },
      "execution_count": null,
      "outputs": [
        {
          "output_type": "execute_result",
          "data": {
            "text/plain": [
              "Index(['Gender', 'Age', 'Height', 'Weight', 'family_history_with_overweight',\n",
              "       'FAVC', 'FCVC', 'NCP', 'CAEC', 'SMOKE', 'CH2O', 'SCC', 'FAF', 'TUE',\n",
              "       'CALC', 'MTRANS', 'NObeyesdad'],\n",
              "      dtype='object')"
            ]
          },
          "metadata": {},
          "execution_count": 12
        }
      ]
    },
    {
      "cell_type": "markdown",
      "source": [
        "Valores de Mediana, desvio padrão, valor mínimo, máximo, quartis, retiramos o COUNT, devido se referenciar as linhas com exceção das colunas com variáveis categóricas"
      ],
      "metadata": {
        "id": "zjDO_c0ndLFi"
      }
    },
    {
      "cell_type": "code",
      "source": [
        "df.describe().drop('count')"
      ],
      "metadata": {
        "id": "rlDaW6Hsy1en",
        "colab": {
          "base_uri": "https://localhost:8080/",
          "height": 269
        },
        "outputId": "028b80c2-9317-4b09-c96b-3031db60a438"
      },
      "execution_count": null,
      "outputs": [
        {
          "output_type": "execute_result",
          "data": {
            "text/plain": [
              "            Age    Height      Weight      FCVC       NCP      CH2O       FAF  \\\n",
              "mean  24.312600  1.701677   86.586058  2.419043  2.685628  2.008011  1.010298   \n",
              "std    6.345968  0.093305   26.191172  0.533927  0.778039  0.612953  0.850592   \n",
              "min   14.000000  1.450000   39.000000  1.000000  1.000000  1.000000  0.000000   \n",
              "25%   19.947192  1.630000   65.473343  2.000000  2.658738  1.584812  0.124505   \n",
              "50%   22.777890  1.700499   83.000000  2.385502  3.000000  2.000000  1.000000   \n",
              "75%   26.000000  1.768464  107.430682  3.000000  3.000000  2.477420  1.666678   \n",
              "max   61.000000  1.980000  173.000000  3.000000  4.000000  3.000000  3.000000   \n",
              "\n",
              "           TUE  \n",
              "mean  0.657866  \n",
              "std   0.608927  \n",
              "min   0.000000  \n",
              "25%   0.000000  \n",
              "50%   0.625350  \n",
              "75%   1.000000  \n",
              "max   2.000000  "
            ],
            "text/html": [
              "\n",
              "  <div id=\"df-341e2787-7313-427a-b40a-731857b59074\" class=\"colab-df-container\">\n",
              "    <div>\n",
              "<style scoped>\n",
              "    .dataframe tbody tr th:only-of-type {\n",
              "        vertical-align: middle;\n",
              "    }\n",
              "\n",
              "    .dataframe tbody tr th {\n",
              "        vertical-align: top;\n",
              "    }\n",
              "\n",
              "    .dataframe thead th {\n",
              "        text-align: right;\n",
              "    }\n",
              "</style>\n",
              "<table border=\"1\" class=\"dataframe\">\n",
              "  <thead>\n",
              "    <tr style=\"text-align: right;\">\n",
              "      <th></th>\n",
              "      <th>Age</th>\n",
              "      <th>Height</th>\n",
              "      <th>Weight</th>\n",
              "      <th>FCVC</th>\n",
              "      <th>NCP</th>\n",
              "      <th>CH2O</th>\n",
              "      <th>FAF</th>\n",
              "      <th>TUE</th>\n",
              "    </tr>\n",
              "  </thead>\n",
              "  <tbody>\n",
              "    <tr>\n",
              "      <th>mean</th>\n",
              "      <td>24.312600</td>\n",
              "      <td>1.701677</td>\n",
              "      <td>86.586058</td>\n",
              "      <td>2.419043</td>\n",
              "      <td>2.685628</td>\n",
              "      <td>2.008011</td>\n",
              "      <td>1.010298</td>\n",
              "      <td>0.657866</td>\n",
              "    </tr>\n",
              "    <tr>\n",
              "      <th>std</th>\n",
              "      <td>6.345968</td>\n",
              "      <td>0.093305</td>\n",
              "      <td>26.191172</td>\n",
              "      <td>0.533927</td>\n",
              "      <td>0.778039</td>\n",
              "      <td>0.612953</td>\n",
              "      <td>0.850592</td>\n",
              "      <td>0.608927</td>\n",
              "    </tr>\n",
              "    <tr>\n",
              "      <th>min</th>\n",
              "      <td>14.000000</td>\n",
              "      <td>1.450000</td>\n",
              "      <td>39.000000</td>\n",
              "      <td>1.000000</td>\n",
              "      <td>1.000000</td>\n",
              "      <td>1.000000</td>\n",
              "      <td>0.000000</td>\n",
              "      <td>0.000000</td>\n",
              "    </tr>\n",
              "    <tr>\n",
              "      <th>25%</th>\n",
              "      <td>19.947192</td>\n",
              "      <td>1.630000</td>\n",
              "      <td>65.473343</td>\n",
              "      <td>2.000000</td>\n",
              "      <td>2.658738</td>\n",
              "      <td>1.584812</td>\n",
              "      <td>0.124505</td>\n",
              "      <td>0.000000</td>\n",
              "    </tr>\n",
              "    <tr>\n",
              "      <th>50%</th>\n",
              "      <td>22.777890</td>\n",
              "      <td>1.700499</td>\n",
              "      <td>83.000000</td>\n",
              "      <td>2.385502</td>\n",
              "      <td>3.000000</td>\n",
              "      <td>2.000000</td>\n",
              "      <td>1.000000</td>\n",
              "      <td>0.625350</td>\n",
              "    </tr>\n",
              "    <tr>\n",
              "      <th>75%</th>\n",
              "      <td>26.000000</td>\n",
              "      <td>1.768464</td>\n",
              "      <td>107.430682</td>\n",
              "      <td>3.000000</td>\n",
              "      <td>3.000000</td>\n",
              "      <td>2.477420</td>\n",
              "      <td>1.666678</td>\n",
              "      <td>1.000000</td>\n",
              "    </tr>\n",
              "    <tr>\n",
              "      <th>max</th>\n",
              "      <td>61.000000</td>\n",
              "      <td>1.980000</td>\n",
              "      <td>173.000000</td>\n",
              "      <td>3.000000</td>\n",
              "      <td>4.000000</td>\n",
              "      <td>3.000000</td>\n",
              "      <td>3.000000</td>\n",
              "      <td>2.000000</td>\n",
              "    </tr>\n",
              "  </tbody>\n",
              "</table>\n",
              "</div>\n",
              "    <div class=\"colab-df-buttons\">\n",
              "\n",
              "  <div class=\"colab-df-container\">\n",
              "    <button class=\"colab-df-convert\" onclick=\"convertToInteractive('df-341e2787-7313-427a-b40a-731857b59074')\"\n",
              "            title=\"Convert this dataframe to an interactive table.\"\n",
              "            style=\"display:none;\">\n",
              "\n",
              "  <svg xmlns=\"http://www.w3.org/2000/svg\" height=\"24px\" viewBox=\"0 -960 960 960\">\n",
              "    <path d=\"M120-120v-720h720v720H120Zm60-500h600v-160H180v160Zm220 220h160v-160H400v160Zm0 220h160v-160H400v160ZM180-400h160v-160H180v160Zm440 0h160v-160H620v160ZM180-180h160v-160H180v160Zm440 0h160v-160H620v160Z\"/>\n",
              "  </svg>\n",
              "    </button>\n",
              "\n",
              "  <style>\n",
              "    .colab-df-container {\n",
              "      display:flex;\n",
              "      gap: 12px;\n",
              "    }\n",
              "\n",
              "    .colab-df-convert {\n",
              "      background-color: #E8F0FE;\n",
              "      border: none;\n",
              "      border-radius: 50%;\n",
              "      cursor: pointer;\n",
              "      display: none;\n",
              "      fill: #1967D2;\n",
              "      height: 32px;\n",
              "      padding: 0 0 0 0;\n",
              "      width: 32px;\n",
              "    }\n",
              "\n",
              "    .colab-df-convert:hover {\n",
              "      background-color: #E2EBFA;\n",
              "      box-shadow: 0px 1px 2px rgba(60, 64, 67, 0.3), 0px 1px 3px 1px rgba(60, 64, 67, 0.15);\n",
              "      fill: #174EA6;\n",
              "    }\n",
              "\n",
              "    .colab-df-buttons div {\n",
              "      margin-bottom: 4px;\n",
              "    }\n",
              "\n",
              "    [theme=dark] .colab-df-convert {\n",
              "      background-color: #3B4455;\n",
              "      fill: #D2E3FC;\n",
              "    }\n",
              "\n",
              "    [theme=dark] .colab-df-convert:hover {\n",
              "      background-color: #434B5C;\n",
              "      box-shadow: 0px 1px 3px 1px rgba(0, 0, 0, 0.15);\n",
              "      filter: drop-shadow(0px 1px 2px rgba(0, 0, 0, 0.3));\n",
              "      fill: #FFFFFF;\n",
              "    }\n",
              "  </style>\n",
              "\n",
              "    <script>\n",
              "      const buttonEl =\n",
              "        document.querySelector('#df-341e2787-7313-427a-b40a-731857b59074 button.colab-df-convert');\n",
              "      buttonEl.style.display =\n",
              "        google.colab.kernel.accessAllowed ? 'block' : 'none';\n",
              "\n",
              "      async function convertToInteractive(key) {\n",
              "        const element = document.querySelector('#df-341e2787-7313-427a-b40a-731857b59074');\n",
              "        const dataTable =\n",
              "          await google.colab.kernel.invokeFunction('convertToInteractive',\n",
              "                                                    [key], {});\n",
              "        if (!dataTable) return;\n",
              "\n",
              "        const docLinkHtml = 'Like what you see? Visit the ' +\n",
              "          '<a target=\"_blank\" href=https://colab.research.google.com/notebooks/data_table.ipynb>data table notebook</a>'\n",
              "          + ' to learn more about interactive tables.';\n",
              "        element.innerHTML = '';\n",
              "        dataTable['output_type'] = 'display_data';\n",
              "        await google.colab.output.renderOutput(dataTable, element);\n",
              "        const docLink = document.createElement('div');\n",
              "        docLink.innerHTML = docLinkHtml;\n",
              "        element.appendChild(docLink);\n",
              "      }\n",
              "    </script>\n",
              "  </div>\n",
              "\n",
              "\n",
              "<div id=\"df-17aaae0e-10a4-487c-b69f-438ae8afbebc\">\n",
              "  <button class=\"colab-df-quickchart\" onclick=\"quickchart('df-17aaae0e-10a4-487c-b69f-438ae8afbebc')\"\n",
              "            title=\"Suggest charts\"\n",
              "            style=\"display:none;\">\n",
              "\n",
              "<svg xmlns=\"http://www.w3.org/2000/svg\" height=\"24px\"viewBox=\"0 0 24 24\"\n",
              "     width=\"24px\">\n",
              "    <g>\n",
              "        <path d=\"M19 3H5c-1.1 0-2 .9-2 2v14c0 1.1.9 2 2 2h14c1.1 0 2-.9 2-2V5c0-1.1-.9-2-2-2zM9 17H7v-7h2v7zm4 0h-2V7h2v10zm4 0h-2v-4h2v4z\"/>\n",
              "    </g>\n",
              "</svg>\n",
              "  </button>\n",
              "\n",
              "<style>\n",
              "  .colab-df-quickchart {\n",
              "      --bg-color: #E8F0FE;\n",
              "      --fill-color: #1967D2;\n",
              "      --hover-bg-color: #E2EBFA;\n",
              "      --hover-fill-color: #174EA6;\n",
              "      --disabled-fill-color: #AAA;\n",
              "      --disabled-bg-color: #DDD;\n",
              "  }\n",
              "\n",
              "  [theme=dark] .colab-df-quickchart {\n",
              "      --bg-color: #3B4455;\n",
              "      --fill-color: #D2E3FC;\n",
              "      --hover-bg-color: #434B5C;\n",
              "      --hover-fill-color: #FFFFFF;\n",
              "      --disabled-bg-color: #3B4455;\n",
              "      --disabled-fill-color: #666;\n",
              "  }\n",
              "\n",
              "  .colab-df-quickchart {\n",
              "    background-color: var(--bg-color);\n",
              "    border: none;\n",
              "    border-radius: 50%;\n",
              "    cursor: pointer;\n",
              "    display: none;\n",
              "    fill: var(--fill-color);\n",
              "    height: 32px;\n",
              "    padding: 0;\n",
              "    width: 32px;\n",
              "  }\n",
              "\n",
              "  .colab-df-quickchart:hover {\n",
              "    background-color: var(--hover-bg-color);\n",
              "    box-shadow: 0 1px 2px rgba(60, 64, 67, 0.3), 0 1px 3px 1px rgba(60, 64, 67, 0.15);\n",
              "    fill: var(--button-hover-fill-color);\n",
              "  }\n",
              "\n",
              "  .colab-df-quickchart-complete:disabled,\n",
              "  .colab-df-quickchart-complete:disabled:hover {\n",
              "    background-color: var(--disabled-bg-color);\n",
              "    fill: var(--disabled-fill-color);\n",
              "    box-shadow: none;\n",
              "  }\n",
              "\n",
              "  .colab-df-spinner {\n",
              "    border: 2px solid var(--fill-color);\n",
              "    border-color: transparent;\n",
              "    border-bottom-color: var(--fill-color);\n",
              "    animation:\n",
              "      spin 1s steps(1) infinite;\n",
              "  }\n",
              "\n",
              "  @keyframes spin {\n",
              "    0% {\n",
              "      border-color: transparent;\n",
              "      border-bottom-color: var(--fill-color);\n",
              "      border-left-color: var(--fill-color);\n",
              "    }\n",
              "    20% {\n",
              "      border-color: transparent;\n",
              "      border-left-color: var(--fill-color);\n",
              "      border-top-color: var(--fill-color);\n",
              "    }\n",
              "    30% {\n",
              "      border-color: transparent;\n",
              "      border-left-color: var(--fill-color);\n",
              "      border-top-color: var(--fill-color);\n",
              "      border-right-color: var(--fill-color);\n",
              "    }\n",
              "    40% {\n",
              "      border-color: transparent;\n",
              "      border-right-color: var(--fill-color);\n",
              "      border-top-color: var(--fill-color);\n",
              "    }\n",
              "    60% {\n",
              "      border-color: transparent;\n",
              "      border-right-color: var(--fill-color);\n",
              "    }\n",
              "    80% {\n",
              "      border-color: transparent;\n",
              "      border-right-color: var(--fill-color);\n",
              "      border-bottom-color: var(--fill-color);\n",
              "    }\n",
              "    90% {\n",
              "      border-color: transparent;\n",
              "      border-bottom-color: var(--fill-color);\n",
              "    }\n",
              "  }\n",
              "</style>\n",
              "\n",
              "  <script>\n",
              "    async function quickchart(key) {\n",
              "      const quickchartButtonEl =\n",
              "        document.querySelector('#' + key + ' button');\n",
              "      quickchartButtonEl.disabled = true;  // To prevent multiple clicks.\n",
              "      quickchartButtonEl.classList.add('colab-df-spinner');\n",
              "      try {\n",
              "        const charts = await google.colab.kernel.invokeFunction(\n",
              "            'suggestCharts', [key], {});\n",
              "      } catch (error) {\n",
              "        console.error('Error during call to suggestCharts:', error);\n",
              "      }\n",
              "      quickchartButtonEl.classList.remove('colab-df-spinner');\n",
              "      quickchartButtonEl.classList.add('colab-df-quickchart-complete');\n",
              "    }\n",
              "    (() => {\n",
              "      let quickchartButtonEl =\n",
              "        document.querySelector('#df-17aaae0e-10a4-487c-b69f-438ae8afbebc button');\n",
              "      quickchartButtonEl.style.display =\n",
              "        google.colab.kernel.accessAllowed ? 'block' : 'none';\n",
              "    })();\n",
              "  </script>\n",
              "</div>\n",
              "\n",
              "    </div>\n",
              "  </div>\n"
            ],
            "application/vnd.google.colaboratory.intrinsic+json": {
              "type": "dataframe",
              "summary": "{\n  \"name\": \"df\",\n  \"rows\": 7,\n  \"fields\": [\n    {\n      \"column\": \"Age\",\n      \"properties\": {\n        \"dtype\": \"number\",\n        \"std\": 17.30539314049171,\n        \"min\": 6.345968273732234,\n        \"max\": 61.0,\n        \"num_unique_values\": 7,\n        \"samples\": [\n          24.312599908574136,\n          6.345968273732234,\n          26.0\n        ],\n        \"semantic_type\": \"\",\n        \"description\": \"\"\n      }\n    },\n    {\n      \"column\": \"Height\",\n      \"properties\": {\n        \"dtype\": \"number\",\n        \"std\": 0.629432277623311,\n        \"min\": 0.09330481986792007,\n        \"max\": 1.98,\n        \"num_unique_values\": 7,\n        \"samples\": [\n          1.7016773533870204,\n          0.09330481986792007,\n          1.768464\n        ],\n        \"semantic_type\": \"\",\n        \"description\": \"\"\n      }\n    },\n    {\n      \"column\": \"Weight\",\n      \"properties\": {\n        \"dtype\": \"number\",\n        \"std\": 48.6143500677952,\n        \"min\": 26.1911717452047,\n        \"max\": 173.0,\n        \"num_unique_values\": 7,\n        \"samples\": [\n          86.58605812648035,\n          26.1911717452047,\n          107.430682\n        ],\n        \"semantic_type\": \"\",\n        \"description\": \"\"\n      }\n    },\n    {\n      \"column\": \"FCVC\",\n      \"properties\": {\n        \"dtype\": \"number\",\n        \"std\": 0.9536957941363385,\n        \"min\": 0.5339265785033002,\n        \"max\": 3.0,\n        \"num_unique_values\": 6,\n        \"samples\": [\n          2.4190430615821885,\n          0.5339265785033002,\n          3.0\n        ],\n        \"semantic_type\": \"\",\n        \"description\": \"\"\n      }\n    },\n    {\n      \"column\": \"NCP\",\n      \"properties\": {\n        \"dtype\": \"number\",\n        \"std\": 1.1550207865680704,\n        \"min\": 0.7780386488418612,\n        \"max\": 4.0,\n        \"num_unique_values\": 6,\n        \"samples\": [\n          2.6856280497394596,\n          0.7780386488418612,\n          4.0\n        ],\n        \"semantic_type\": \"\",\n        \"description\": \"\"\n      }\n    },\n    {\n      \"column\": \"CH2O\",\n      \"properties\": {\n        \"dtype\": \"number\",\n        \"std\": 0.8242737146327835,\n        \"min\": 0.6129534517968722,\n        \"max\": 3.0,\n        \"num_unique_values\": 7,\n        \"samples\": [\n          2.0080114040738986,\n          0.6129534517968722,\n          2.47742\n        ],\n        \"semantic_type\": \"\",\n        \"description\": \"\"\n      }\n    },\n    {\n      \"column\": \"FAF\",\n      \"properties\": {\n        \"dtype\": \"number\",\n        \"std\": 1.0142843433808166,\n        \"min\": 0.0,\n        \"max\": 3.0,\n        \"num_unique_values\": 7,\n        \"samples\": [\n          1.0102976958787304,\n          0.850592430836698,\n          1.6666775\n        ],\n        \"semantic_type\": \"\",\n        \"description\": \"\"\n      }\n    },\n    {\n      \"column\": \"TUE\",\n      \"properties\": {\n        \"dtype\": \"number\",\n        \"std\": 0.680151126393169,\n        \"min\": 0.0,\n        \"max\": 2.0,\n        \"num_unique_values\": 6,\n        \"samples\": [\n          0.657865923732828,\n          0.6089272596763782,\n          2.0\n        ],\n        \"semantic_type\": \"\",\n        \"description\": \"\"\n      }\n    }\n  ]\n}"
            }
          },
          "metadata": {},
          "execution_count": 13
        }
      ]
    },
    {
      "cell_type": "markdown",
      "source": [
        "Teste para verificação de valores nulos nas colunas"
      ],
      "metadata": {
        "id": "dvectmP2dW2K"
      }
    },
    {
      "cell_type": "code",
      "source": [
        "df.isnull().sum()# passou no teste, não há valores nulos"
      ],
      "metadata": {
        "id": "OOWhIY1ndXVK",
        "colab": {
          "base_uri": "https://localhost:8080/"
        },
        "outputId": "a961ef21-dfbe-4e0c-ebe8-66fde3384351"
      },
      "execution_count": null,
      "outputs": [
        {
          "output_type": "execute_result",
          "data": {
            "text/plain": [
              "Gender                            0\n",
              "Age                               0\n",
              "Height                            0\n",
              "Weight                            0\n",
              "family_history_with_overweight    0\n",
              "FAVC                              0\n",
              "FCVC                              0\n",
              "NCP                               0\n",
              "CAEC                              0\n",
              "SMOKE                             0\n",
              "CH2O                              0\n",
              "SCC                               0\n",
              "FAF                               0\n",
              "TUE                               0\n",
              "CALC                              0\n",
              "MTRANS                            0\n",
              "NObeyesdad                        0\n",
              "dtype: int64"
            ]
          },
          "metadata": {},
          "execution_count": 14
        }
      ]
    },
    {
      "cell_type": "markdown",
      "source": [
        "*Por meio de uma análise inicial, os dados estão relacionados à saude de individudos, com uma coluna final, que mostra uma variável categórica representando o nível de obesidade.*"
      ],
      "metadata": {
        "id": "HXs1Nc5rdky6"
      }
    },
    {
      "cell_type": "markdown",
      "source": [
        "Identificação dos nomes dado a cada categoria de IMC no dataset"
      ],
      "metadata": {
        "id": "kbZQgbDRd9Or"
      }
    },
    {
      "cell_type": "code",
      "source": [
        "df.NObeyesdad.unique()"
      ],
      "metadata": {
        "id": "PyqcFCH-d2Kq",
        "colab": {
          "base_uri": "https://localhost:8080/"
        },
        "outputId": "e358d7df-f8fb-43b8-b313-8ce9857a7fbe"
      },
      "execution_count": null,
      "outputs": [
        {
          "output_type": "execute_result",
          "data": {
            "text/plain": [
              "array(['Normal_Weight', 'Overweight_Level_I', 'Overweight_Level_II',\n",
              "       'Obesity_Type_I', 'Insufficient_Weight', 'Obesity_Type_II',\n",
              "       'Obesity_Type_III'], dtype=object)"
            ]
          },
          "metadata": {},
          "execution_count": 15
        }
      ]
    },
    {
      "cell_type": "markdown",
      "source": [
        "*A funções seguintes irão plotar alguns gráficos para as análises tanto em colunas quanto em pizza em variaveis categoricas, dado escolha ao usuário qual o tipo de gráfico ele gostaria de ter suas análises.*"
      ],
      "metadata": {
        "id": "GQGLr7dTebrb"
      }
    },
    {
      "cell_type": "markdown",
      "source": [
        "Função para plotar gráficos em formato de colunas"
      ],
      "metadata": {
        "id": "P8qVbUOOe2SS"
      }
    },
    {
      "cell_type": "code",
      "source": [
        "def analise_coluna_cat(df, coluna):\n",
        "    plt.figure(figsize=(8, 6))\n",
        "    ac = (df[coluna].value_counts(normalize = True) * 100 ) .plot(kind = 'bar', color = ['#20b2aa',\n",
        "        'orange',\n",
        "        '#b8860b',\n",
        "        '#bacdff',\n",
        "        '#ffbaf1',\n",
        "        'yellow',\n",
        "        '#fe7272']\n",
        "    )\n",
        "    ac.bar_label(ac.containers[0] ,fmt='%.2f%%', label_type = 'edge')\n",
        "    ac.margins(y = 0.1)\n",
        "    plt.ylabel('Porcentagem');"
      ],
      "metadata": {
        "id": "dee2S4hkewQC"
      },
      "execution_count": 155,
      "outputs": []
    },
    {
      "cell_type": "markdown",
      "source": [
        "Função para plotar gráficos em formato de pizza"
      ],
      "metadata": {
        "id": "cI0n0ef1e0T6"
      }
    },
    {
      "cell_type": "code",
      "source": [
        "def analise_coluna_cat(df, coluna):\n",
        "    plt.figure(figsize=(10, 8))\n",
        "    valores = df[coluna].value_counts(normalize=True)\n",
        "    cores = ['#20b2aa', 'orange', '#b8860b', '#bacdff', '#ffbaf1', 'yellow', '#fe7272']\n",
        "    explode = tuple([0.1] + [0.03] * (len(valores) - 1))\n",
        "    plt.pie(valores, labels=None, autopct=lambda p: '{:.0f}%'.format(p), pctdistance=1.1, labeldistance=1.1, colors=cores, explode=explode)\n",
        "    plt.title(f'Distribuição de {coluna}')\n",
        "    plt.legend(valores.index, loc=\"center left\", bbox_to_anchor=(1, 0, 0.5, 1))\n",
        "    plt.show()"
      ],
      "metadata": {
        "id": "UJ2HUPhEfGPS"
      },
      "execution_count": null,
      "outputs": []
    },
    {
      "cell_type": "markdown",
      "source": [
        "*Os códigos a seguir irão analizar a porcentagem de cada variável categórica*"
      ],
      "metadata": {
        "id": "JFfvZPiRfKWq"
      }
    },
    {
      "cell_type": "markdown",
      "source": [
        "Análise da porcentagem das variáveis categóricas referentes ao IMC."
      ],
      "metadata": {
        "id": "ecXnDeWTfboq"
      }
    },
    {
      "cell_type": "code",
      "source": [
        "analise_coluna_cat(df, 'NObeyesdad')"
      ],
      "metadata": {
        "id": "cr0ateJpfUjy"
      },
      "execution_count": null,
      "outputs": []
    },
    {
      "cell_type": "markdown",
      "source": [
        "Análise da porcentagem das variáveis categóricas referentes ao Gênero."
      ],
      "metadata": {
        "id": "aR-R3Zi-gUF9"
      }
    },
    {
      "cell_type": "code",
      "source": [
        "analise_coluna_cat(df, 'Gender')"
      ],
      "metadata": {
        "id": "V5BXyqr5gYLJ"
      },
      "execution_count": null,
      "outputs": []
    },
    {
      "cell_type": "markdown",
      "source": [
        "Análise da porcentagem das variáveis categóricas referentes ao consumo de bebidas alcoólicas"
      ],
      "metadata": {
        "id": "nk5dhBQbgy8Z"
      }
    },
    {
      "cell_type": "code",
      "source": [
        "analise_coluna_cat(df, 'CALC')"
      ],
      "metadata": {
        "id": "hzDOzGKtg6aa"
      },
      "execution_count": null,
      "outputs": []
    },
    {
      "cell_type": "markdown",
      "source": [
        "Análise da porcentagem das variáveis categóricas referentes ao consumo de alimentos com altos índices calóricos"
      ],
      "metadata": {
        "id": "CT0DD9-WlKaJ"
      }
    },
    {
      "cell_type": "code",
      "source": [
        "analise_coluna_cat(df, 'FAVC')"
      ],
      "metadata": {
        "id": "QnFTAkM9lKw0"
      },
      "execution_count": null,
      "outputs": []
    },
    {
      "cell_type": "markdown",
      "source": [
        "Análise da porcentagem das variáveis categóricas referentes ao histórico familiar de sobrepeso"
      ],
      "metadata": {
        "id": "Q-9hcEIBlyjR"
      }
    },
    {
      "cell_type": "code",
      "source": [
        "analise_coluna_cat(df, 'family_history_with_overweight')"
      ],
      "metadata": {
        "id": "87WLYa5mly-y"
      },
      "execution_count": null,
      "outputs": []
    },
    {
      "cell_type": "markdown",
      "source": [
        "Análise da porcentagem das variáveis categóricas referentes ao consumo de alimentos entre as refeições"
      ],
      "metadata": {
        "id": "AGu6j9Fml8IZ"
      }
    },
    {
      "cell_type": "code",
      "source": [
        "analise_coluna_cat(df, 'CAEC')"
      ],
      "metadata": {
        "id": "hiAbt7w0l8mR"
      },
      "execution_count": null,
      "outputs": []
    },
    {
      "cell_type": "markdown",
      "source": [
        "Análise da porcentagem das variáveis categóricas referentes aos fumantes e não-fumantes"
      ],
      "metadata": {
        "id": "O2CqC1XxmW2h"
      }
    },
    {
      "cell_type": "code",
      "source": [
        "analise_coluna_cat(df, 'SMOKE')"
      ],
      "metadata": {
        "id": "Ezu9JZfemXY5"
      },
      "execution_count": null,
      "outputs": []
    },
    {
      "cell_type": "markdown",
      "source": [
        "Análise da porcentagem das variáveis categóricas referentes aos que realizam monitoramento das calorias consumidas durantes as refeições"
      ],
      "metadata": {
        "id": "f7q7ZT2KmlTr"
      }
    },
    {
      "cell_type": "code",
      "source": [
        "analise_coluna_cat(df, 'SCC')"
      ],
      "metadata": {
        "id": "ZmLJ8AOiml2I"
      },
      "execution_count": null,
      "outputs": []
    },
    {
      "cell_type": "markdown",
      "source": [
        "Análise da porcentagem das variáveis categóricas referentes aos meios de transporte utilizados para a locomoção"
      ],
      "metadata": {
        "id": "XU98RuTHm5G6"
      }
    },
    {
      "cell_type": "code",
      "source": [
        "analise_coluna_cat(df, 'MTRANS')"
      ],
      "metadata": {
        "id": "ESy1TSzKm5lR"
      },
      "execution_count": null,
      "outputs": []
    },
    {
      "cell_type": "markdown",
      "source": [
        "# **OBJETIVOS FUTURO PARA ANÁLISE**\n",
        "\n",
        "##*   Conversão  dos valores categóricos presentes nas colunas categóricas em em valores numéricos;\n",
        "##*   Determinar o Nível de acurácia da Análise dos dados;\n",
        "\n",
        "\n",
        "\n"
      ],
      "metadata": {
        "id": "H83jqfX-1lE2"
      }
    },
    {
      "cell_type": "markdown",
      "source": [
        "Converter variáveis categóricas em numéricas"
      ],
      "metadata": {
        "id": "MXHyKaTrn7dR"
      }
    },
    {
      "cell_type": "code",
      "source": [
        "le = LabelEncoder()\n",
        "df['Gender'] = le.fit_transform(df['Gender'])\n",
        "df['family_history_with_overweight'] = le.fit_transform(df['family_history_with_overweight'])\n",
        "df['FAVC'] = le.fit_transform(df['FAVC'])"
      ],
      "metadata": {
        "id": "ADAZjjn7n_XZ"
      },
      "execution_count": null,
      "outputs": []
    },
    {
      "cell_type": "markdown",
      "source": [
        "Dividir os dados em conjunto de treinamento e conjunto de teste"
      ],
      "metadata": {
        "id": "4-LAvqMxoNiD"
      }
    },
    {
      "cell_type": "code",
      "source": [
        "X = df.drop('NObeyesdad', axis=1)  # Features\n",
        "y = df['NObeyesdad']  # Target variable"
      ],
      "metadata": {
        "id": "v4TnDov8oOFq"
      },
      "execution_count": null,
      "outputs": []
    },
    {
      "cell_type": "markdown",
      "source": [
        "Converter variáveis categóricas em variáveis dummy"
      ],
      "metadata": {
        "id": "rnuiTJdloXBC"
      }
    },
    {
      "cell_type": "code",
      "source": [
        "X = pd.get_dummies(X, columns=['Gender', 'family_history_with_overweight', 'FAVC', 'CAEC', 'SMOKE', 'SCC', 'CALC', 'MTRANS'])"
      ],
      "metadata": {
        "id": "nDf1hDtmoXfR"
      },
      "execution_count": null,
      "outputs": []
    },
    {
      "cell_type": "markdown",
      "source": [
        "Dividir os dados em conjunto de treinamento e conjunto de teste"
      ],
      "metadata": {
        "id": "MRjyQxmFolYa"
      }
    },
    {
      "cell_type": "code",
      "source": [
        "X_train, X_test, y_train, y_test = train_test_split(X, y, test_size=0.2, random_state=42)"
      ],
      "metadata": {
        "id": "7szkVF4aol3K"
      },
      "execution_count": null,
      "outputs": []
    },
    {
      "cell_type": "markdown",
      "source": [
        "Padronização dos dados"
      ],
      "metadata": {
        "id": "EoPFRv42o5_J"
      }
    },
    {
      "cell_type": "code",
      "source": [
        "scaler = StandardScaler()\n",
        "X_train_scaled = scaler.fit_transform(X_train)\n",
        "X_test_scaled = scaler.transform(X_test)"
      ],
      "metadata": {
        "id": "gUVVNLXmo6ea"
      },
      "execution_count": null,
      "outputs": []
    },
    {
      "cell_type": "markdown",
      "source": [
        "Inicializar e treinar o modelo de regressão logística com um número maior de iterações"
      ],
      "metadata": {
        "id": "RihtfHcIpFtp"
      }
    },
    {
      "cell_type": "code",
      "source": [
        "model = LogisticRegression(max_iter=1000)\n",
        "model.fit(X_train_scaled, y_train)"
      ],
      "metadata": {
        "id": "weJbB_6tpGiD"
      },
      "execution_count": null,
      "outputs": []
    },
    {
      "cell_type": "markdown",
      "source": [
        "Fazer previsões no conjunto de teste"
      ],
      "metadata": {
        "id": "Q_4KOFDopQoK"
      }
    },
    {
      "cell_type": "code",
      "source": [
        "y_pred = model.predict(X_test_scaled)"
      ],
      "metadata": {
        "id": "cInYKaY7pRjZ"
      },
      "execution_count": null,
      "outputs": []
    },
    {
      "cell_type": "markdown",
      "source": [
        "Avaliar a precisão do modelo"
      ],
      "metadata": {
        "id": "r57FK92epabK"
      }
    },
    {
      "cell_type": "code",
      "source": [
        "accuracy = accuracy_score(y_test, y_pred)\n",
        "print(\"Acurácia do modelo de regressão logística:\", accuracy)"
      ],
      "metadata": {
        "id": "jI9IrIYgpa4M"
      },
      "execution_count": null,
      "outputs": []
    },
    {
      "cell_type": "markdown",
      "source": [
        "Gráfico de todas as variaveis númericas original"
      ],
      "metadata": {
        "id": "jsdysvG2pncS"
      }
    },
    {
      "cell_type": "code",
      "source": [
        "sns.set( font_scale=1.0, rc={'figure.figsize':(15,15)} )\n",
        "eixo = df.hist(bins=20, color= 'blue')"
      ],
      "metadata": {
        "id": "76Mwi2sepnxZ"
      },
      "execution_count": null,
      "outputs": []
    },
    {
      "cell_type": "markdown",
      "source": [
        "# Através dos Gráficos em Caixa (BoxPlot), serão analisadas algumas comparações entre algumas colunas, sendo elas categóricas e numéricas, para a determinação aproximada de seus valores interquartis, medianas e a indentificação de outliers."
      ],
      "metadata": {
        "id": "FetelJ-Cp7Oj"
      }
    },
    {
      "cell_type": "markdown",
      "source": [
        "Análise em Gráficos por BoxPlot da relação entre as colunas\n",
        "\n",
        "\n",
        "*   Gênero por Idade;\n",
        "*   Gênero por Altura;\n",
        "*   Histórico Familiar Sobrepeso por Peso\n",
        "\n",
        "\n",
        "\n"
      ],
      "metadata": {
        "id": "35rqWNtirWHi"
      }
    },
    {
      "cell_type": "code",
      "source": [
        "plt.figure(figsize=(15,5))\n",
        "\n",
        "plt.subplot(1,3,1)\n",
        "sns.boxplot( data=df, x='Gender', y= 'Age')\n",
        "plt.title('Gênero por Idade')\n",
        "\n",
        "plt.subplot(1, 3, 2)\n",
        "sns.boxplot(data=df, x='Gender', y='Height')\n",
        "plt.title('Gênero por Altura')\n",
        "\n",
        "plt.subplot(1, 3, 3)\n",
        "sns.boxplot(data=df, x='family_history_with_overweight', y='Weight')\n",
        "plt.title('Histórico Familiar por Peso')\n",
        "\n",
        "plt.tight_layout()\n",
        "\n",
        "# Exibir o gráfico\n",
        "plt.show()"
      ],
      "metadata": {
        "id": "NKSylnACp71J"
      },
      "execution_count": null,
      "outputs": []
    },
    {
      "cell_type": "markdown",
      "source": [
        "Identificação Por meio de um Gráfico de Dispersão da concentração de indivíduos em cada grupo da coluna de IMC de acordo com suas idades"
      ],
      "metadata": {
        "id": "fYfjPJAnrAXS"
      }
    },
    {
      "cell_type": "code",
      "source": [
        "plt.figure( figsize=(13,5))\n",
        "sns.scatterplot( data=df, x='NObeyesdad', y= 'Age')"
      ],
      "metadata": {
        "id": "8-P4ZDxMrBDj",
        "colab": {
          "base_uri": "https://localhost:8080/",
          "height": 491
        },
        "outputId": "5d17d585-8f27-4efa-fc4f-d5b002c12bd6"
      },
      "execution_count": null,
      "outputs": [
        {
          "output_type": "execute_result",
          "data": {
            "text/plain": [
              "<Axes: xlabel='NObeyesdad', ylabel='Age'>"
            ]
          },
          "metadata": {},
          "execution_count": 76
        },
        {
          "output_type": "display_data",
          "data": {
            "text/plain": [
              "<Figure size 1300x500 with 1 Axes>"
            ],
            "image/png": "[encoded data removed]"
          },
          "metadata": {}
        }
      ]
    },
    {
      "cell_type": "markdown",
      "source": [
        "Conversão da variável categóricas de IMC em variável numérica. (A quantidade de valores numéricos varia de acordo com a quantidade de valores categóricos presentes em cada coluna)"
      ],
      "metadata": {
        "id": "7DZ7pEacsgEq"
      }
    },
    {
      "cell_type": "code",
      "source": [
        "df['NObeyesdad_code'] = pd.factorize(df['NObeyesdad'])[0]\n",
        "df['NObeyesdad_code'].unique()"
      ],
      "metadata": {
        "colab": {
          "base_uri": "https://localhost:8080/"
        },
        "id": "Ak-GTitYsgfp",
        "outputId": "24f50037-29fd-4435-da89-c9dea113bbd7"
      },
      "execution_count": null,
      "outputs": [
        {
          "output_type": "execute_result",
          "data": {
            "text/plain": [
              "array([0, 1, 2, 3, 4, 5, 6])"
            ]
          },
          "metadata": {},
          "execution_count": 35
        }
      ]
    },
    {
      "cell_type": "markdown",
      "source": [
        "Identificação dos nomes dado a cada categoria convertida de IMC no dataset"
      ],
      "metadata": {
        "id": "4DeQbmnWs4LB"
      }
    },
    {
      "cell_type": "code",
      "source": [
        "df.NObeyesdad.unique()"
      ],
      "metadata": {
        "id": "mGKqoGA3s4gx"
      },
      "execution_count": null,
      "outputs": []
    },
    {
      "cell_type": "markdown",
      "source": [
        " As variáveis categóricas presentes em cada colunas e com suas respectivos valores categóricos que estão presentes no dataframe são os seguintes"
      ],
      "metadata": {
        "id": "KiSL3doys-_c"
      }
    },
    {
      "cell_type": "code",
      "source": [
        "df.select_dtypes(include='object').describe().drop('count')"
      ],
      "metadata": {
        "id": "4GAhEjg4s_Xw"
      },
      "execution_count": null,
      "outputs": []
    },
    {
      "cell_type": "markdown",
      "source": [
        "\n",
        "# A função seguinte receberá um DataFrame e o nome de uma coluna categórica. Esta irá criar uma nova coluna no DataFrame com os códigos numéricos correspondentes às categorias da coluna especificada.\n"
      ],
      "metadata": {
        "id": "pqQnwnjktw8o"
      }
    },
    {
      "cell_type": "code",
      "source": [
        "def encode_categorical_variable(df, column_name):\n",
        "    # Cria uma nova coluna com códigos numéricos para as categorias\n",
        "    df[column_name + '_code'] = pd.factorize(df[column_name])[0]\n",
        "    # Retorna os códigos únicos atribuídos\n",
        "    return df[column_name + '_code'].unique()"
      ],
      "metadata": {
        "id": "cYZaRjvQtxf5"
      },
      "execution_count": null,
      "outputs": []
    },
    {
      "cell_type": "markdown",
      "source": [
        " Identificação das colunas categóricas que serão transformadas em numéricas"
      ],
      "metadata": {
        "id": "Sh6rgwi7uh0A"
      }
    },
    {
      "cell_type": "code",
      "source": [
        "categorical_columns = ['Gender', 'family_history_with_overweight', 'FAVC',\t'CAEC','SMOKE',\t'SCC', 'CALC', 'MTRANS',\t'NObeyesdad']"
      ],
      "metadata": {
        "id": "Z79bGlXWuiMg"
      },
      "execution_count": null,
      "outputs": []
    },
    {
      "cell_type": "markdown",
      "source": [
        "Realização de looping sobre cada coluna categórica e aplicada a função"
      ],
      "metadata": {
        "id": "knoOUxo8u55g"
      }
    },
    {
      "cell_type": "code",
      "source": [
        "for column in categorical_columns:\n",
        "    unique_codes = encode_categorical_variable(df, column)\n",
        "    print(f\"Códigos únicos para a coluna '{column}': {unique_codes}\")"
      ],
      "metadata": {
        "id": "laRioKeRu6Px"
      },
      "execution_count": null,
      "outputs": []
    },
    {
      "cell_type": "markdown",
      "source": [
        "Realização do drop das variaveis categosricas"
      ],
      "metadata": {
        "id": "1Bh5Q9y_vfEY"
      }
    },
    {
      "cell_type": "code",
      "source": [
        "df_sem_categoricas = df.drop(categorical_columns, axis=1)\n",
        "df_sem_categoricas.tail() # Verificação das últimas linhas para confirmar a conversão"
      ],
      "metadata": {
        "id": "P_F086Jovf74"
      },
      "execution_count": null,
      "outputs": []
    },
    {
      "cell_type": "markdown",
      "source": [
        "Criação de novas colunas com as variáveis categóricas convertidas em numéricas. (Colunas estas classificadas com nomes semelhantes, mas utilizando o sufixo _code)"
      ],
      "metadata": {
        "id": "8TX3AMe2wJJp"
      }
    },
    {
      "cell_type": "code",
      "source": [
        "df_sem_categoricas.columns"
      ],
      "metadata": {
        "colab": {
          "base_uri": "https://localhost:8080/"
        },
        "id": "HqoLKOaGwJh0",
        "outputId": "a81c481a-df68-4264-ecf4-ab26bfea26df"
      },
      "execution_count": null,
      "outputs": [
        {
          "output_type": "execute_result",
          "data": {
            "text/plain": [
              "Index(['Age', 'Height', 'Weight', 'FCVC', 'NCP', 'CH2O', 'FAF', 'TUE',\n",
              "       'NObeyesdad_code', 'Gender_code', 'family_history_with_overweight_code',\n",
              "       'FAVC_code', 'CAEC_code', 'SMOKE_code', 'SCC_code', 'CALC_code',\n",
              "       'MTRANS_code'],\n",
              "      dtype='object')"
            ]
          },
          "metadata": {},
          "execution_count": 50
        }
      ]
    },
    {
      "cell_type": "markdown",
      "source": [
        "# Conversão dos valores adicionados para o armazenamento de um arquivo em formato .CSV"
      ],
      "metadata": {
        "id": "nIPs2nWhwYIp"
      }
    },
    {
      "cell_type": "code",
      "source": [
        "df_sem_categoricas.to_csv('dados_sem_categoricas.csv', index=False)"
      ],
      "metadata": {
        "id": "UhMrksnPwYhp"
      },
      "execution_count": null,
      "outputs": []
    },
    {
      "cell_type": "markdown",
      "source": [
        "# Geração de Download do novo arquivo CSV para teste do modelo"
      ],
      "metadata": {
        "id": "zJnnrzkywsgB"
      }
    },
    {
      "cell_type": "code",
      "source": [
        "files.download('dados_sem_categoricas.csv')"
      ],
      "metadata": {
        "colab": {
          "base_uri": "https://localhost:8080/",
          "height": 17
        },
        "id": "8Fnr-BSUws-Q",
        "outputId": "dd988b13-a164-440a-88d0-be5c175d1c8b"
      },
      "execution_count": null,
      "outputs": [
        {
          "output_type": "display_data",
          "data": {
            "text/plain": [
              "<IPython.core.display.Javascript object>"
            ],
            "application/javascript": [
              "\n",
              "    async function download(id, filename, size) {\n",
              "      if (!google.colab.kernel.accessAllowed) {\n",
              "        return;\n",
              "      }\n",
              "      const div = document.createElement('div');\n",
              "      const label = document.createElement('label');\n",
              "      label.textContent = `Downloading \"${filename}\": `;\n",
              "      div.appendChild(label);\n",
              "      const progress = document.createElement('progress');\n",
              "      progress.max = size;\n",
              "      div.appendChild(progress);\n",
              "      document.body.appendChild(div);\n",
              "\n",
              "      const buffers = [];\n",
              "      let downloaded = 0;\n",
              "\n",
              "      const channel = await google.colab.kernel.comms.open(id);\n",
              "      // Send a message to notify the kernel that we're ready.\n",
              "      channel.send({})\n",
              "\n",
              "      for await (const message of channel.messages) {\n",
              "        // Send a message to notify the kernel that we're ready.\n",
              "        channel.send({})\n",
              "        if (message.buffers) {\n",
              "          for (const buffer of message.buffers) {\n",
              "            buffers.push(buffer);\n",
              "            downloaded += buffer.byteLength;\n",
              "            progress.value = downloaded;\n",
              "          }\n",
              "        }\n",
              "      }\n",
              "      const blob = new Blob(buffers, {type: 'application/binary'});\n",
              "      const a = document.createElement('a');\n",
              "      a.href = window.URL.createObjectURL(blob);\n",
              "      a.download = filename;\n",
              "      div.appendChild(a);\n",
              "      a.click();\n",
              "      div.remove();\n",
              "    }\n",
              "  "
            ]
          },
          "metadata": {}
        },
        {
          "output_type": "display_data",
          "data": {
            "text/plain": [
              "<IPython.core.display.Javascript object>"
            ],
            "application/javascript": [
              "download(\"download_29a71689-9030-4430-bfd8-f0d8d5e58df8\", \"dados_sem_categoricas.csv\", 157321)"
            ]
          },
          "metadata": {}
        }
      ]
    }
  ]
}